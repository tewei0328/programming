{
  "nbformat": 4,
  "nbformat_minor": 0,
  "metadata": {
    "colab": {
      "provenance": [],
      "authorship_tag": "ABX9TyNJw0AlrfVj1D2J+B40dcHY",
      "include_colab_link": true
    },
    "kernelspec": {
      "name": "python3",
      "display_name": "Python 3"
    },
    "language_info": {
      "name": "python"
    }
  },
  "cells": [
    {
      "cell_type": "markdown",
      "metadata": {
        "id": "view-in-github",
        "colab_type": "text"
      },
      "source": [
        "<a href=\"https://colab.research.google.com/github/tewei0328/programming/blob/main/Day1_%E8%AE%8A%E6%95%B8_%E5%AE%B9%E5%99%A8.ipynb\" target=\"_parent\"><img src=\"https://colab.research.google.com/assets/colab-badge.svg\" alt=\"Open In Colab\"/></a>"
      ]
    },
    {
      "cell_type": "markdown",
      "source": [
        "# 1.底層, 原子: 字串str, 整數int, 小數float, 布林bool"
      ],
      "metadata": {
        "id": "AX5CZunjiHmi"
      }
    },
    {
      "cell_type": "code",
      "execution_count": 1,
      "metadata": {
        "id": "Hgr70Ol3hqyX"
      },
      "outputs": [],
      "source": [
        "aaa='hello'"
      ]
    },
    {
      "cell_type": "code",
      "source": [
        "type(aaa)"
      ],
      "metadata": {
        "colab": {
          "base_uri": "https://localhost:8080/"
        },
        "id": "xpS8OklNhrjC",
        "outputId": "6061f5df-620b-4706-bf13-c2e667dff5e9"
      },
      "execution_count": 2,
      "outputs": [
        {
          "output_type": "execute_result",
          "data": {
            "text/plain": [
              "str"
            ]
          },
          "metadata": {},
          "execution_count": 2
        }
      ]
    },
    {
      "cell_type": "code",
      "source": [
        "rooms = {1: 'Foyer', 2: 'Conference Room'}\n",
        "room = input('Enter the room number: ')\n",
        "if not room in rooms:\n",
        "\tprint('Room does not exist.')\n",
        "else:\n",
        "\tprint(\"The room name is \" + rooms[room])"
      ],
      "metadata": {
        "colab": {
          "base_uri": "https://localhost:8080/"
        },
        "id": "Tk25B5rmhrlh",
        "outputId": "96bc7e97-27fc-4366-988f-4b794d865a02"
      },
      "execution_count": 10,
      "outputs": [
        {
          "output_type": "stream",
          "name": "stdout",
          "text": [
            "Enter the room number: 1\n",
            "Room does not exist.\n"
          ]
        }
      ]
    },
    {
      "cell_type": "code",
      "source": [
        "type(room)"
      ],
      "metadata": {
        "colab": {
          "base_uri": "https://localhost:8080/"
        },
        "id": "CQV9qTS4hroJ",
        "outputId": "76bab521-e78a-4328-afdb-1ab6ee0cec37"
      },
      "execution_count": 7,
      "outputs": [
        {
          "output_type": "execute_result",
          "data": {
            "text/plain": [
              "str"
            ]
          },
          "metadata": {},
          "execution_count": 7
        }
      ]
    },
    {
      "cell_type": "code",
      "source": [
        "room"
      ],
      "metadata": {
        "colab": {
          "base_uri": "https://localhost:8080/",
          "height": 35
        },
        "id": "brrIb2tQhrqg",
        "outputId": "224c22e7-fd16-430d-96d4-b678209aa259"
      },
      "execution_count": 8,
      "outputs": [
        {
          "output_type": "execute_result",
          "data": {
            "text/plain": [
              "'1'"
            ],
            "application/vnd.google.colaboratory.intrinsic+json": {
              "type": "string"
            }
          },
          "metadata": {},
          "execution_count": 8
        }
      ]
    },
    {
      "cell_type": "code",
      "source": [
        "rooms = {1: 'Foyer', 2: 'Conference Room'}\n",
        "room = int(input('Enter the room number: '))\n",
        "if not room in rooms:\n",
        "\tprint('Room does not exist.')\n",
        "else:\n",
        "\tprint(\"The room name is \" + rooms[room])"
      ],
      "metadata": {
        "colab": {
          "base_uri": "https://localhost:8080/"
        },
        "id": "bGLBKvFOlIEQ",
        "outputId": "8a5d5d47-6dfa-4956-92b1-00df8aa0f7b8"
      },
      "execution_count": 9,
      "outputs": [
        {
          "output_type": "stream",
          "name": "stdout",
          "text": [
            "Enter the room number: 1\n",
            "The room name is Foyer\n"
          ]
        }
      ]
    }
  ]
}